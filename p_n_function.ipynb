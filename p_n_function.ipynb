{
  "nbformat": 4,
  "nbformat_minor": 0,
  "metadata": {
    "colab": {
      "name": "p-n_function",
      "provenance": [],
      "collapsed_sections": []
    },
    "kernelspec": {
      "name": "python3",
      "display_name": "Python 3"
    },
    "accelerator": "GPU"
  },
  "cells": [
    {
      "cell_type": "code",
      "metadata": {
        "id": "JxNSAlqpEzpu",
        "colab_type": "code",
        "colab": {
          "base_uri": "https://localhost:8080/",
          "height": 102
        },
        "outputId": "1eb61fd1-a9cc-40c7-8f62-2113670e393d"
      },
      "source": [
        "# importing the essential packages for text processing and managing the dataFrame\n",
        "import pandas as pd\n",
        "import numpy as np\n",
        "from sklearn.feature_extraction.text import CountVectorizer\n",
        "from nltk.corpus import stopwords\n",
        "from nltk.tokenize import word_tokenize\n",
        "from nltk.stem import PorterStemmer\n",
        "import re\n",
        "import nltk\n",
        "nltk.download('punkt')\n",
        "nltk.download('stopwords')"
      ],
      "execution_count": 3,
      "outputs": [
        {
          "output_type": "stream",
          "text": [
            "[nltk_data] Downloading package punkt to /root/nltk_data...\n",
            "[nltk_data]   Unzipping tokenizers/punkt.zip.\n",
            "[nltk_data] Downloading package stopwords to /root/nltk_data...\n",
            "[nltk_data]   Unzipping corpora/stopwords.zip.\n"
          ],
          "name": "stdout"
        },
        {
          "output_type": "execute_result",
          "data": {
            "text/plain": [
              "True"
            ]
          },
          "metadata": {
            "tags": []
          },
          "execution_count": 3
        }
      ]
    },
    {
      "cell_type": "code",
      "metadata": {
        "id": "CePzQamzGz_y",
        "colab_type": "code",
        "colab": {}
      },
      "source": [
        "# paste the file name on which you are working\n",
        "dataset = pd.read_csv(\"file_name\",delimiter='\\t',quoting=3)\n",
        "X=dataset.iloc[:,0]\n",
        "Y=dataset.iloc[:,1].values"
      ],
      "execution_count": null,
      "outputs": []
    },
    {
      "cell_type": "code",
      "metadata": {
        "id": "j_31YfX2KUUJ",
        "colab_type": "code",
        "colab": {}
      },
      "source": [
        "#basic text cleaning\n",
        "a=[]\n",
        "ps=PorterStemmer()\n",
        "for i in range(len(X)):\n",
        "  r=re.sub('[^a-zA-Z]',' ',X[i])\n",
        "  r=r.lower()\n",
        "  r=[word for word in word_tokenize(X[i]) if not word in set(stopwords.words('english'))]\n",
        "  r=' '.join(r)\n",
        "  a.append(r)"
      ],
      "execution_count": null,
      "outputs": []
    },
    {
      "cell_type": "code",
      "metadata": {
        "id": "mco9kD6NJFev",
        "colab_type": "code",
        "colab": {}
      },
      "source": [
        "# producing text data and train data\n",
        "from sklearn.model_selection import train_test_split\n",
        "cv=CountVectorizer(max_features=1500)\n",
        "X=cv.fit_transform(a).toarray()\n",
        "x_train,y_train,x_test,y_test=train_test_split(X,Y,test_size=0.2,random_state=0)"
      ],
      "execution_count": null,
      "outputs": []
    },
    {
      "cell_type": "code",
      "metadata": {
        "id": "KcRv_2RnMhyP",
        "colab_type": "code",
        "colab": {
          "base_uri": "https://localhost:8080/",
          "height": 170
        },
        "outputId": "33ad25cb-820c-4b99-dc26-35d3d3e38d6d"
      },
      "source": [
        "# algorithm based on mean estimation of the data\n",
        "\n",
        "# wights imply the amount of magnitude with which the word contributes to the meaning of the sentence\n",
        "weights=np.zeros((1,x_train.shape[0]))\n",
        "\n",
        "# impact gives the actual summation of the sentiment of the sentence whenever the word appears\n",
        "impact=np.zeros((1,x_train.shape[0]))\n",
        "\n",
        "# number of times the word has appeared in entire text\n",
        "count=np.zeros((1,x_train.shape[0]))\n",
        "\n",
        "# the algorithm just means each feature(word) weightage in computation of the sentiment of the sentence\n",
        "for i in range(x_train.shape[0]):\n",
        "  for j in range(x_train.shape[1]):\n",
        "    if (x_train[i][j]==1):\n",
        "      count[j]=count[j]+1\n",
        "      impact=impact+y_train[i]\n",
        "      weights=impact[j]/count[j]\n",
        "\n",
        "# a parameter on which we decide whether a sentence is in positive or negative sense\n",
        "threshold=np.mean(weights)"
      ],
      "execution_count": 4,
      "outputs": [
        {
          "output_type": "execute_result",
          "data": {
            "text/plain": [
              "array([[0., 0., 0., 0., 0., 0., 0., 0., 0.],\n",
              "       [0., 0., 0., 0., 0., 0., 0., 0., 0.],\n",
              "       [0., 0., 0., 0., 0., 0., 0., 0., 0.],\n",
              "       [0., 0., 0., 0., 0., 0., 0., 0., 0.],\n",
              "       [0., 0., 0., 0., 0., 0., 0., 0., 0.],\n",
              "       [0., 0., 0., 0., 0., 0., 0., 0., 0.],\n",
              "       [0., 0., 0., 0., 0., 0., 0., 0., 0.],\n",
              "       [0., 0., 0., 0., 0., 0., 0., 0., 0.],\n",
              "       [0., 0., 0., 0., 0., 0., 0., 0., 0.]])"
            ]
          },
          "metadata": {
            "tags": []
          },
          "execution_count": 4
        }
      ]
    },
    {
      "cell_type": "code",
      "metadata": {
        "id": "Q1qQpPambppw",
        "colab_type": "code",
        "colab": {}
      },
      "source": [
        "# basic calculation of results which tells number f success and number of errors in prediction \n",
        "results=[]\n",
        "for i in range(x_test.shape[0]):\n",
        "  summation=0\n",
        "  for j in range(x_test.shape[0]):\n",
        "    summation=summation+weights[j]\n",
        "  if (summation>threshold):\n",
        "    c=1\n",
        "  else:\n",
        "    c=0\n",
        "  if (c==y_test[i]):\n",
        "    results.append(1)\n",
        "  else:\n",
        "    results.append(0)\n",
        "accuracy=(sum(results)/len(results))*100\n",
        "print(\"accuracy of the classifier is \",accuracy,sep='')\n",
        "\n",
        "# thank you for reading the code"
      ],
      "execution_count": null,
      "outputs": []
    }
  ]
}